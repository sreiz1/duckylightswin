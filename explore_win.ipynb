{
 "cells": [
  {
   "cell_type": "markdown",
   "metadata": {},
   "source": [
    "# Explore_Win\n",
    "Scratchpad to test some hidapi stuff on Windows"
   ]
  },
  {
   "cell_type": "code",
   "execution_count": null,
   "metadata": {},
   "outputs": [],
   "source": [
    "import hid as hidapi"
   ]
  },
  {
   "cell_type": "code",
   "execution_count": null,
   "metadata": {},
   "outputs": [],
   "source": [
    "vendor=0x04d9\n",
    "product=0x0348\n",
    "print(vendor, product)\n",
    "en=hidapi.enumerate(vendor_id=vendor) #, product_id=product)\n",
    "print(en)\n",
    "path=en[0]['path']\n",
    "print(f'{path=}')\n",
    "device=hidapi.device()\n",
    "device.open_path(path)\n",
    "dir(device)"
   ]
  },
  {
   "cell_type": "code",
   "execution_count": null,
   "metadata": {},
   "outputs": [],
   "source": [
    "bytes.fromhex('4101')"
   ]
  },
  {
   "cell_type": "code",
   "execution_count": null,
   "metadata": {},
   "outputs": [],
   "source": [
    "listdata=[0x41, 0x01]\n",
    "bytes(bytearray(listdata)).hex()"
   ]
  }
 ],
 "metadata": {
  "kernelspec": {
   "display_name": "Python 3.10.4 ('.venv': poetry)",
   "language": "python",
   "name": "python3"
  },
  "language_info": {
   "codemirror_mode": {
    "name": "ipython",
    "version": 3
   },
   "file_extension": ".py",
   "mimetype": "text/x-python",
   "name": "python",
   "nbconvert_exporter": "python",
   "pygments_lexer": "ipython3",
   "version": "3.10.4"
  },
  "orig_nbformat": 4,
  "vscode": {
   "interpreter": {
    "hash": "554674c64c551c45fce05ee718c1ef9d43eb37d0929b1abf9e9556946f4fb316"
   }
  }
 },
 "nbformat": 4,
 "nbformat_minor": 2
}
